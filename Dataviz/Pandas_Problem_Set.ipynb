{
 "cells": [
  {
   "cell_type": "markdown",
   "metadata": {
    "colab_type": "text",
    "id": "bSU6eKZTdMXZ"
   },
   "source": [
    "# Pandas Problem Set"
   ]
  },
  {
   "cell_type": "code",
   "execution_count": 0,
   "metadata": {
    "colab": {},
    "colab_type": "code",
    "id": "c5ewTg7vdQFm"
   },
   "outputs": [],
   "source": [
    "import pandas as pd\n",
    "from google.colab import files\n",
    "import numpy as np\n",
    "import matplotlib.pyplot as plt\n",
    "\n"
   ]
  },
  {
   "cell_type": "markdown",
   "metadata": {
    "colab_type": "text",
    "id": "MytzEzg-fyb7"
   },
   "source": [
    "### Dataset for tutorial and problem set:\n",
    "\n",
    "    Pima Indian Heritage Diabetes\n",
    "\n",
    "    Each person in the dataset is a female who is at least 21 years old\n",
    "    \n",
    "  #### Below are the variables for each person in the dataset\n",
    "      'preg': number of pregnancies  \n",
    "      'plas': plasma glucose concentration \n",
    "      'pres': blood pressure \n",
    "      'skin': skin thickness\n",
    "      'test': Insulin\n",
    "      'mass': BMI\n",
    "      'pedi': diabetes pedigree function\n",
    "      'age': age\n",
    "      'class': '0' means does not have diabetes and '1' means has diabetes"
   ]
  },
  {
   "cell_type": "code",
   "execution_count": 0,
   "metadata": {
    "colab": {},
    "colab_type": "code",
    "id": "F4btIg8vdSyb"
   },
   "outputs": [],
   "source": [
    "url = \"https://raw.githubusercontent.com/jbrownlee/Datasets/master/pima-indians-diabetes.data.csv\"\n",
    "names = ['preg', 'plas', 'pres', 'skin', 'test', 'mass', 'pedi', 'age', 'class']"
   ]
  },
  {
   "cell_type": "markdown",
   "metadata": {
    "colab_type": "text",
    "id": "QOLgFaSKeShR"
   },
   "source": [
    "Read in csv above to a pandas dataframe"
   ]
  },
  {
   "cell_type": "code",
   "execution_count": 12,
   "metadata": {
    "colab": {},
    "colab_type": "code",
    "id": "Okcb8dnXeX2C"
   },
   "outputs": [
    {
     "name": "stdout",
     "output_type": "stream",
     "text": [
      "     preg  plas  pres  skin  test  mass   pedi  age  class\n",
      "0       6   148    72    35     0  33.6  0.627   50      1\n",
      "1       1    85    66    29     0  26.6  0.351   31      0\n",
      "2       8   183    64     0     0  23.3  0.672   32      1\n",
      "3       1    89    66    23    94  28.1  0.167   21      0\n",
      "4       0   137    40    35   168  43.1  2.288   33      1\n",
      "5       5   116    74     0     0  25.6  0.201   30      0\n",
      "6       3    78    50    32    88  31.0  0.248   26      1\n",
      "7      10   115     0     0     0  35.3  0.134   29      0\n",
      "8       2   197    70    45   543  30.5  0.158   53      1\n",
      "9       8   125    96     0     0   0.0  0.232   54      1\n",
      "10      4   110    92     0     0  37.6  0.191   30      0\n",
      "11     10   168    74     0     0  38.0  0.537   34      1\n",
      "12     10   139    80     0     0  27.1  1.441   57      0\n",
      "13      1   189    60    23   846  30.1  0.398   59      1\n",
      "14      5   166    72    19   175  25.8  0.587   51      1\n",
      "15      7   100     0     0     0  30.0  0.484   32      1\n",
      "16      0   118    84    47   230  45.8  0.551   31      1\n",
      "17      7   107    74     0     0  29.6  0.254   31      1\n",
      "18      1   103    30    38    83  43.3  0.183   33      0\n",
      "19      1   115    70    30    96  34.6  0.529   32      1\n",
      "20      3   126    88    41   235  39.3  0.704   27      0\n",
      "21      8    99    84     0     0  35.4  0.388   50      0\n",
      "22      7   196    90     0     0  39.8  0.451   41      1\n",
      "23      9   119    80    35     0  29.0  0.263   29      1\n",
      "24     11   143    94    33   146  36.6  0.254   51      1\n",
      "25     10   125    70    26   115  31.1  0.205   41      1\n",
      "26      7   147    76     0     0  39.4  0.257   43      1\n",
      "27      1    97    66    15   140  23.2  0.487   22      0\n",
      "28     13   145    82    19   110  22.2  0.245   57      0\n",
      "29      5   117    92     0     0  34.1  0.337   38      0\n",
      "..    ...   ...   ...   ...   ...   ...    ...  ...    ...\n",
      "738     2    99    60    17   160  36.6  0.453   21      0\n",
      "739     1   102    74     0     0  39.5  0.293   42      1\n",
      "740    11   120    80    37   150  42.3  0.785   48      1\n",
      "741     3   102    44    20    94  30.8  0.400   26      0\n",
      "742     1   109    58    18   116  28.5  0.219   22      0\n",
      "743     9   140    94     0     0  32.7  0.734   45      1\n",
      "744    13   153    88    37   140  40.6  1.174   39      0\n",
      "745    12   100    84    33   105  30.0  0.488   46      0\n",
      "746     1   147    94    41     0  49.3  0.358   27      1\n",
      "747     1    81    74    41    57  46.3  1.096   32      0\n",
      "748     3   187    70    22   200  36.4  0.408   36      1\n",
      "749     6   162    62     0     0  24.3  0.178   50      1\n",
      "750     4   136    70     0     0  31.2  1.182   22      1\n",
      "751     1   121    78    39    74  39.0  0.261   28      0\n",
      "752     3   108    62    24     0  26.0  0.223   25      0\n",
      "753     0   181    88    44   510  43.3  0.222   26      1\n",
      "754     8   154    78    32     0  32.4  0.443   45      1\n",
      "755     1   128    88    39   110  36.5  1.057   37      1\n",
      "756     7   137    90    41     0  32.0  0.391   39      0\n",
      "757     0   123    72     0     0  36.3  0.258   52      1\n",
      "758     1   106    76     0     0  37.5  0.197   26      0\n",
      "759     6   190    92     0     0  35.5  0.278   66      1\n",
      "760     2    88    58    26    16  28.4  0.766   22      0\n",
      "761     9   170    74    31     0  44.0  0.403   43      1\n",
      "762     9    89    62     0     0  22.5  0.142   33      0\n",
      "763    10   101    76    48   180  32.9  0.171   63      0\n",
      "764     2   122    70    27     0  36.8  0.340   27      0\n",
      "765     5   121    72    23   112  26.2  0.245   30      0\n",
      "766     1   126    60     0     0  30.1  0.349   47      1\n",
      "767     1    93    70    31     0  30.4  0.315   23      0\n",
      "\n",
      "[768 rows x 9 columns]\n"
     ]
    }
   ],
   "source": [
    "import pandas as pd\n",
    "url = \"https://raw.githubusercontent.com/jbrownlee/Datasets/master/pima-indians-diabetes.data.csv\"\n",
    "names = ['preg', 'plas', 'pres', 'skin', 'test', 'mass', 'pedi', 'age', 'class']\n",
    "data = pd.read_csv(url, names=names)\n",
    "print(data)\n"
   ]
  },
  {
   "cell_type": "markdown",
   "metadata": {
    "colab_type": "text",
    "id": "d4DyOsuoewE2"
   },
   "source": [
    "Print out the age and class of the 100th patient"
   ]
  },
  {
   "cell_type": "code",
   "execution_count": 39,
   "metadata": {
    "colab": {},
    "colab_type": "code",
    "id": "xZqBsg39eY8_"
   },
   "outputs": [
    {
     "name": "stdout",
     "output_type": "stream",
     "text": [
      "     age  class\n",
      "100   33      1\n"
     ]
    }
   ],
   "source": [
    "import pandas as pd\n",
    "url = \"https://raw.githubusercontent.com/jbrownlee/Datasets/master/pima-indians-diabetes.data.csv\"\n",
    "names = ['preg', 'plas', 'pres', 'skin', 'test', 'mass', 'pedi', 'age', 'class']\n",
    "data = pd.read_csv(url, names=names)\n",
    "lmao= data[100:101]\n",
    "yip= lmao[['age','class']]\n",
    "trial= data['class']\n",
    "print(yip)"
   ]
  },
  {
   "cell_type": "markdown",
   "metadata": {
    "colab_type": "text",
    "id": "j8L2EM-5iOWc"
   },
   "source": [
    "Write code to figure out how many people are classified as not having diabetes, class is 1"
   ]
  },
  {
   "cell_type": "code",
   "execution_count": 37,
   "metadata": {
    "colab": {},
    "colab_type": "code",
    "id": "vohzS51WiWvD"
   },
   "outputs": [
    {
     "name": "stdout",
     "output_type": "stream",
     "text": [
      "268\n"
     ]
    }
   ],
   "source": [
    "import pandas as pd\n",
    "url = \"https://raw.githubusercontent.com/jbrownlee/Datasets/master/pima-indians-diabetes.data.csv\"\n",
    "names = ['preg', 'plas', 'pres', 'skin', 'test', 'mass', 'pedi', 'age', 'class']\n",
    "nodiab = 0\n",
    "diab = 0\n",
    "data = pd.read_csv(url, names=names)\n",
    "trial= data['class']\n",
    "for i in trial:\n",
    "    if i > 0:\n",
    "        nodiab += 1\n",
    "    else:\n",
    "        diab += 1\n",
    "print(diab)\n",
    "    \n"
   ]
  },
  {
   "cell_type": "markdown",
   "metadata": {
    "colab_type": "text",
    "id": "ieGRz4iiiX4E"
   },
   "source": [
    "Write code to figure out how many people are classified as having diabetes, class is 0"
   ]
  },
  {
   "cell_type": "code",
   "execution_count": 46,
   "metadata": {
    "colab": {},
    "colab_type": "code",
    "id": "-jq2O-vriXRT"
   },
   "outputs": [
    {
     "name": "stdout",
     "output_type": "stream",
     "text": [
      "268\n"
     ]
    }
   ],
   "source": [
    "# your codeimport pandas as pd\n",
    "url = \"https://raw.githubusercontent.com/jbrownlee/Datasets/master/pima-indians-diabetes.data.csv\"\n",
    "names = ['preg', 'plas', 'pres', 'skin', 'test', 'mass', 'pedi', 'age', 'class']\n",
    "nodiab = 0\n",
    "diab = 0\n",
    "data = pd.read_csv(url, names=names)\n",
    "trial= data['class']\n",
    "for i in trial:\n",
    "    if i > 0:\n",
    "        nodiab += 1\n",
    "    else:\n",
    "        diab += 1\n",
    "print(nodiab)"
   ]
  },
  {
   "cell_type": "markdown",
   "metadata": {
    "colab_type": "text",
    "id": "oeFT7T9OnuSd"
   },
   "source": [
    "What percent of people have diabetes in the study?"
   ]
  },
  {
   "cell_type": "code",
   "execution_count": 51,
   "metadata": {
    "colab": {},
    "colab_type": "code",
    "id": "zGGHptFYnwq0"
   },
   "outputs": [
    {
     "name": "stdout",
     "output_type": "stream",
     "text": [
      "0.6510416666666666\n"
     ]
    }
   ],
   "source": [
    "url = \"https://raw.githubusercontent.com/jbrownlee/Datasets/master/pima-indians-diabetes.data.csv\"\n",
    "names = ['preg', 'plas', 'pres', 'skin', 'test', 'mass', 'pedi', 'age', 'class']\n",
    "nodiab = 0\n",
    "diab = 0\n",
    "listof=[]\n",
    "data = pd.read_csv(url, names=names)\n",
    "trial= data['class']\n",
    "for i in trial:\n",
    "    if i > 0:\n",
    "        nodiab += 1\n",
    "    else:\n",
    "        diab += 1\n",
    "        listof.append(diab)\n",
    "\n",
    "newidea = nodiab + diab\n",
    "percentage = diab/newidea\n",
    "\n",
    "print(percentage)\n"
   ]
  },
  {
   "cell_type": "markdown",
   "metadata": {
    "colab_type": "text",
    "id": "nbrjnRPafs0p"
   },
   "source": [
    "Print out the pressure and class (no other columns) for the first 5 people\n",
    "\n",
    "hint: this was not shown in our tutorial. Google how to select multiple columns with loc\n",
    "\n",
    "Being able to effectively google is a very important coding tool"
   ]
  },
  {
   "cell_type": "code",
   "execution_count": 54,
   "metadata": {
    "colab": {},
    "colab_type": "code",
    "id": "GiNCJ19KfHJQ"
   },
   "outputs": [
    {
     "name": "stdout",
     "output_type": "stream",
     "text": [
      "   pres  class\n",
      "0    72      1\n",
      "1    66      0\n",
      "2    64      1\n",
      "3    66      0\n",
      "4    40      1\n"
     ]
    }
   ],
   "source": [
    "import pandas as pd\n",
    "url = \"https://raw.githubusercontent.com/jbrownlee/Datasets/master/pima-indians-diabetes.data.csv\"\n",
    "names = ['preg', 'plas', 'pres', 'skin', 'test', 'mass', 'pedi', 'age', 'class']\n",
    "data = pd.read_csv(url, names=names)\n",
    "yip= data[['pres','class']]\n",
    "\n",
    "print(yip.head(5))"
   ]
  },
  {
   "cell_type": "markdown",
   "metadata": {
    "colab_type": "text",
    "id": "O-CcsoqlhxUn"
   },
   "source": [
    "Run the cell below, it will print out the correlation among the columns"
   ]
  },
  {
   "cell_type": "code",
   "execution_count": 56,
   "metadata": {
    "colab": {
     "base_uri": "https://localhost:8080/",
     "height": 314
    },
    "colab_type": "code",
    "id": "pXpVFt6MffQt",
    "outputId": "38c68435-472b-4a1c-f2db-b883de17797d"
   },
   "outputs": [
    {
     "data": {
      "text/html": [
       "<div>\n",
       "<style scoped>\n",
       "    .dataframe tbody tr th:only-of-type {\n",
       "        vertical-align: middle;\n",
       "    }\n",
       "\n",
       "    .dataframe tbody tr th {\n",
       "        vertical-align: top;\n",
       "    }\n",
       "\n",
       "    .dataframe thead th {\n",
       "        text-align: right;\n",
       "    }\n",
       "</style>\n",
       "<table border=\"1\" class=\"dataframe\">\n",
       "  <thead>\n",
       "    <tr style=\"text-align: right;\">\n",
       "      <th></th>\n",
       "      <th>preg</th>\n",
       "      <th>plas</th>\n",
       "      <th>pres</th>\n",
       "      <th>skin</th>\n",
       "      <th>test</th>\n",
       "      <th>mass</th>\n",
       "      <th>pedi</th>\n",
       "      <th>age</th>\n",
       "      <th>class</th>\n",
       "    </tr>\n",
       "  </thead>\n",
       "  <tbody>\n",
       "    <tr>\n",
       "      <th>preg</th>\n",
       "      <td>1.000000</td>\n",
       "      <td>0.129459</td>\n",
       "      <td>0.141282</td>\n",
       "      <td>-0.081672</td>\n",
       "      <td>-0.073535</td>\n",
       "      <td>0.017683</td>\n",
       "      <td>-0.033523</td>\n",
       "      <td>0.544341</td>\n",
       "      <td>0.221898</td>\n",
       "    </tr>\n",
       "    <tr>\n",
       "      <th>plas</th>\n",
       "      <td>0.129459</td>\n",
       "      <td>1.000000</td>\n",
       "      <td>0.152590</td>\n",
       "      <td>0.057328</td>\n",
       "      <td>0.331357</td>\n",
       "      <td>0.221071</td>\n",
       "      <td>0.137337</td>\n",
       "      <td>0.263514</td>\n",
       "      <td>0.466581</td>\n",
       "    </tr>\n",
       "    <tr>\n",
       "      <th>pres</th>\n",
       "      <td>0.141282</td>\n",
       "      <td>0.152590</td>\n",
       "      <td>1.000000</td>\n",
       "      <td>0.207371</td>\n",
       "      <td>0.088933</td>\n",
       "      <td>0.281805</td>\n",
       "      <td>0.041265</td>\n",
       "      <td>0.239528</td>\n",
       "      <td>0.065068</td>\n",
       "    </tr>\n",
       "    <tr>\n",
       "      <th>skin</th>\n",
       "      <td>-0.081672</td>\n",
       "      <td>0.057328</td>\n",
       "      <td>0.207371</td>\n",
       "      <td>1.000000</td>\n",
       "      <td>0.436783</td>\n",
       "      <td>0.392573</td>\n",
       "      <td>0.183928</td>\n",
       "      <td>-0.113970</td>\n",
       "      <td>0.074752</td>\n",
       "    </tr>\n",
       "    <tr>\n",
       "      <th>test</th>\n",
       "      <td>-0.073535</td>\n",
       "      <td>0.331357</td>\n",
       "      <td>0.088933</td>\n",
       "      <td>0.436783</td>\n",
       "      <td>1.000000</td>\n",
       "      <td>0.197859</td>\n",
       "      <td>0.185071</td>\n",
       "      <td>-0.042163</td>\n",
       "      <td>0.130548</td>\n",
       "    </tr>\n",
       "    <tr>\n",
       "      <th>mass</th>\n",
       "      <td>0.017683</td>\n",
       "      <td>0.221071</td>\n",
       "      <td>0.281805</td>\n",
       "      <td>0.392573</td>\n",
       "      <td>0.197859</td>\n",
       "      <td>1.000000</td>\n",
       "      <td>0.140647</td>\n",
       "      <td>0.036242</td>\n",
       "      <td>0.292695</td>\n",
       "    </tr>\n",
       "    <tr>\n",
       "      <th>pedi</th>\n",
       "      <td>-0.033523</td>\n",
       "      <td>0.137337</td>\n",
       "      <td>0.041265</td>\n",
       "      <td>0.183928</td>\n",
       "      <td>0.185071</td>\n",
       "      <td>0.140647</td>\n",
       "      <td>1.000000</td>\n",
       "      <td>0.033561</td>\n",
       "      <td>0.173844</td>\n",
       "    </tr>\n",
       "    <tr>\n",
       "      <th>age</th>\n",
       "      <td>0.544341</td>\n",
       "      <td>0.263514</td>\n",
       "      <td>0.239528</td>\n",
       "      <td>-0.113970</td>\n",
       "      <td>-0.042163</td>\n",
       "      <td>0.036242</td>\n",
       "      <td>0.033561</td>\n",
       "      <td>1.000000</td>\n",
       "      <td>0.238356</td>\n",
       "    </tr>\n",
       "    <tr>\n",
       "      <th>class</th>\n",
       "      <td>0.221898</td>\n",
       "      <td>0.466581</td>\n",
       "      <td>0.065068</td>\n",
       "      <td>0.074752</td>\n",
       "      <td>0.130548</td>\n",
       "      <td>0.292695</td>\n",
       "      <td>0.173844</td>\n",
       "      <td>0.238356</td>\n",
       "      <td>1.000000</td>\n",
       "    </tr>\n",
       "  </tbody>\n",
       "</table>\n",
       "</div>"
      ],
      "text/plain": [
       "           preg      plas      pres      skin      test      mass      pedi  \\\n",
       "preg   1.000000  0.129459  0.141282 -0.081672 -0.073535  0.017683 -0.033523   \n",
       "plas   0.129459  1.000000  0.152590  0.057328  0.331357  0.221071  0.137337   \n",
       "pres   0.141282  0.152590  1.000000  0.207371  0.088933  0.281805  0.041265   \n",
       "skin  -0.081672  0.057328  0.207371  1.000000  0.436783  0.392573  0.183928   \n",
       "test  -0.073535  0.331357  0.088933  0.436783  1.000000  0.197859  0.185071   \n",
       "mass   0.017683  0.221071  0.281805  0.392573  0.197859  1.000000  0.140647   \n",
       "pedi  -0.033523  0.137337  0.041265  0.183928  0.185071  0.140647  1.000000   \n",
       "age    0.544341  0.263514  0.239528 -0.113970 -0.042163  0.036242  0.033561   \n",
       "class  0.221898  0.466581  0.065068  0.074752  0.130548  0.292695  0.173844   \n",
       "\n",
       "            age     class  \n",
       "preg   0.544341  0.221898  \n",
       "plas   0.263514  0.466581  \n",
       "pres   0.239528  0.065068  \n",
       "skin  -0.113970  0.074752  \n",
       "test  -0.042163  0.130548  \n",
       "mass   0.036242  0.292695  \n",
       "pedi   0.033561  0.173844  \n",
       "age    1.000000  0.238356  \n",
       "class  0.238356  1.000000  "
      ]
     },
     "execution_count": 56,
     "metadata": {},
     "output_type": "execute_result"
    }
   ],
   "source": [
    "data.corr()"
   ]
  },
  {
   "cell_type": "markdown",
   "metadata": {
    "colab_type": "text",
    "id": "P_7xRF11h4Uf"
   },
   "source": [
    "What column has the highest correlation with class? Find the mean() value of that column"
   ]
  },
  {
   "cell_type": "code",
   "execution_count": 66,
   "metadata": {
    "colab": {},
    "colab_type": "code",
    "id": "clb2Gh8Mn9d4"
   },
   "outputs": [
    {
     "name": "stdout",
     "output_type": "stream",
     "text": [
      "120.89453125\n"
     ]
    }
   ],
   "source": [
    "plasi = data['plas']\n",
    "yo = plasi.mean()\n",
    "print(yo)"
   ]
  },
  {
   "cell_type": "markdown",
   "metadata": {
    "colab_type": "text",
    "id": "64yWhAARoWw-"
   },
   "source": [
    "Create a new dataframe with only people that are above the mean found above"
   ]
  },
  {
   "cell_type": "code",
   "execution_count": 78,
   "metadata": {
    "colab": {},
    "colab_type": "code",
    "id": "HRLjs3agkdPY"
   },
   "outputs": [
    {
     "name": "stdout",
     "output_type": "stream",
     "text": [
      "148\n",
      "183\n",
      "137\n",
      "197\n",
      "125\n",
      "168\n",
      "139\n",
      "189\n",
      "166\n",
      "126\n",
      "196\n",
      "143\n",
      "125\n",
      "147\n",
      "145\n",
      "158\n",
      "122\n",
      "138\n",
      "180\n",
      "133\n",
      "171\n",
      "159\n",
      "180\n",
      "146\n",
      "176\n",
      "150\n",
      "187\n",
      "146\n",
      "133\n",
      "141\n",
      "146\n",
      "139\n",
      "126\n",
      "129\n",
      "131\n",
      "137\n",
      "136\n",
      "123\n",
      "134\n",
      "142\n",
      "144\n",
      "122\n",
      "163\n",
      "151\n",
      "125\n",
      "126\n",
      "144\n",
      "171\n",
      "155\n",
      "160\n",
      "146\n",
      "124\n",
      "162\n",
      "132\n",
      "173\n",
      "122\n",
      "170\n",
      "125\n",
      "129\n",
      "128\n",
      "154\n",
      "147\n",
      "136\n",
      "156\n",
      "153\n",
      "188\n",
      "152\n",
      "163\n",
      "151\n",
      "131\n",
      "148\n",
      "134\n",
      "179\n",
      "129\n",
      "143\n",
      "130\n",
      "141\n",
      "194\n",
      "181\n",
      "128\n",
      "139\n",
      "123\n",
      "159\n",
      "135\n",
      "158\n",
      "148\n",
      "138\n",
      "196\n",
      "162\n",
      "184\n",
      "147\n",
      "179\n",
      "140\n",
      "151\n",
      "125\n",
      "177\n",
      "158\n",
      "142\n",
      "162\n",
      "197\n",
      "142\n",
      "134\n",
      "122\n",
      "171\n",
      "181\n",
      "179\n",
      "164\n",
      "139\n",
      "146\n",
      "184\n",
      "122\n",
      "165\n",
      "124\n",
      "129\n",
      "193\n",
      "155\n",
      "191\n",
      "141\n",
      "142\n",
      "123\n",
      "138\n",
      "128\n",
      "146\n",
      "122\n",
      "146\n",
      "129\n",
      "133\n",
      "161\n",
      "136\n",
      "155\n",
      "128\n",
      "128\n",
      "161\n",
      "151\n",
      "146\n",
      "126\n",
      "167\n",
      "144\n",
      "150\n",
      "161\n",
      "137\n",
      "128\n",
      "124\n",
      "155\n",
      "182\n",
      "194\n",
      "129\n",
      "124\n",
      "152\n",
      "157\n",
      "122\n",
      "179\n",
      "180\n",
      "165\n",
      "152\n",
      "178\n",
      "130\n",
      "122\n",
      "126\n",
      "139\n",
      "137\n",
      "165\n",
      "125\n",
      "129\n",
      "196\n",
      "189\n",
      "158\n",
      "146\n",
      "147\n",
      "124\n",
      "133\n",
      "173\n",
      "122\n",
      "140\n",
      "156\n",
      "125\n",
      "144\n",
      "166\n",
      "131\n",
      "158\n",
      "127\n",
      "131\n",
      "193\n",
      "137\n",
      "136\n",
      "168\n",
      "123\n",
      "197\n",
      "172\n",
      "143\n",
      "143\n",
      "138\n",
      "173\n",
      "144\n",
      "129\n",
      "151\n",
      "184\n",
      "181\n",
      "135\n",
      "139\n",
      "141\n",
      "140\n",
      "147\n",
      "189\n",
      "180\n",
      "134\n",
      "175\n",
      "135\n",
      "148\n",
      "134\n",
      "124\n",
      "154\n",
      "144\n",
      "137\n",
      "136\n",
      "137\n",
      "126\n",
      "132\n",
      "158\n",
      "123\n",
      "145\n",
      "135\n",
      "139\n",
      "173\n",
      "194\n",
      "125\n",
      "166\n",
      "195\n",
      "154\n",
      "180\n",
      "130\n",
      "139\n",
      "163\n",
      "145\n",
      "125\n",
      "129\n",
      "124\n",
      "130\n",
      "125\n",
      "122\n",
      "132\n",
      "127\n",
      "129\n",
      "128\n",
      "186\n",
      "187\n",
      "131\n",
      "164\n",
      "189\n",
      "124\n",
      "125\n",
      "198\n",
      "154\n",
      "130\n",
      "143\n",
      "133\n",
      "197\n",
      "151\n",
      "124\n",
      "143\n",
      "176\n",
      "132\n",
      "123\n",
      "188\n",
      "173\n",
      "124\n",
      "150\n",
      "183\n",
      "124\n",
      "181\n",
      "152\n",
      "174\n",
      "168\n",
      "138\n",
      "183\n",
      "125\n",
      "132\n",
      "128\n",
      "128\n",
      "128\n",
      "147\n",
      "157\n",
      "167\n",
      "179\n",
      "136\n",
      "123\n",
      "155\n",
      "127\n",
      "162\n",
      "199\n",
      "167\n",
      "145\n",
      "145\n",
      "154\n",
      "165\n",
      "123\n",
      "195\n",
      "156\n",
      "162\n",
      "125\n",
      "136\n",
      "129\n",
      "130\n",
      "140\n",
      "144\n",
      "158\n",
      "129\n",
      "142\n",
      "169\n",
      "127\n",
      "122\n",
      "125\n",
      "168\n",
      "129\n",
      "127\n",
      "164\n",
      "158\n",
      "126\n",
      "129\n",
      "134\n",
      "187\n",
      "173\n",
      "149\n",
      "141\n",
      "175\n",
      "130\n",
      "174\n",
      "126\n",
      "140\n",
      "153\n",
      "147\n",
      "187\n",
      "162\n",
      "136\n",
      "181\n",
      "154\n",
      "128\n",
      "137\n",
      "123\n",
      "190\n",
      "170\n",
      "122\n",
      "126\n"
     ]
    }
   ],
   "source": [
    "okay = data['plas']\n",
    "for i in okay:\n",
    "    if i > 121:\n",
    "        print(i)\n",
    "        "
   ]
  },
  {
   "cell_type": "markdown",
   "metadata": {
    "colab_type": "text",
    "id": "VvUV0lrRmiB7"
   },
   "source": [
    "What percent of this new dataframe has diabetes?"
   ]
  },
  {
   "cell_type": "code",
   "execution_count": 0,
   "metadata": {
    "colab": {},
    "colab_type": "code",
    "id": "tx3x0WsFl3ya"
   },
   "outputs": [],
   "source": [
    "# your code here"
   ]
  },
  {
   "cell_type": "markdown",
   "metadata": {
    "colab_type": "text",
    "id": "RxGIQp0JrUnq"
   },
   "source": [
    "Create a new dataframe that only includes people who are above the average value for each column in the dataset (except 'class'). In other words, find the average value for each column, and then find which users have values above all of these average column values"
   ]
  },
  {
   "cell_type": "code",
   "execution_count": 64,
   "metadata": {
    "colab": {},
    "colab_type": "code",
    "id": "Ylf4p6NNrfME"
   },
   "outputs": [
    {
     "name": "stdout",
     "output_type": "stream",
     "text": [
      "3.8450520833333335 120.89453125 69.10546875 20.536458333333332 79.79947916666667 31.992578124999977 0.4718763020833327 33.240885416666664\n",
      "[6, 8, 5, 10, 8, 4, 10, 10, 5, 7, 7, 8, 7, 9, 11, 10, 7, 13, 5, 5, 6, 10, 4, 11, 9, 4, 7, 7, 9, 7, 7, 7, 5, 8, 7, 7, 8, 5, 7, 5, 4, 5, 13, 4, 7, 5, 7, 5, 13, 15, 4, 7, 4, 6, 6, 4, 8, 4, 7, 4, 5, 5, 4, 4, 6, 5, 4, 9, 8, 5, 5, 10, 4, 9, 5, 4, 9, 8, 7, 17, 4, 7, 6, 4, 4, 6, 6, 8, 6, 5, 5, 6, 5, 4, 7, 8, 8, 5, 9, 7, 11, 8, 5, 4, 4, 6, 5, 8, 5, 7, 7, 9, 12, 5, 6, 5, 5, 7, 7, 4, 4, 6, 4, 4, 7, 9, 4, 6, 9, 10, 9, 9, 12, 11, 4, 4, 5, 10, 13, 7, 5, 10, 7, 7, 7, 5, 4, 5, 6, 14, 8, 5, 5, 10, 6, 7, 6, 4, 13, 10, 6, 8, 12, 5, 9, 7, 5, 8, 8, 5, 4, 4, 9, 13, 12, 5, 5, 5, 4, 4, 5, 6, 12, 4, 5, 8, 5, 5, 4, 4, 4, 6, 5, 9, 5, 4, 8, 6, 4, 8, 4, 12, 5, 6, 4, 8, 4, 14, 5, 10, 9, 9, 8, 5, 10, 8, 6, 7, 4, 7, 8, 4, 4, 4, 8, 4, 4, 6, 5, 7, 6, 6, 7, 10, 8, 12, 9, 9, 7, 13, 6, 6, 9, 6, 4, 8, 10, 4, 8, 5, 4, 4, 6, 7, 8, 11, 11, 6, 6, 6, 4, 6, 10, 6, 12, 8, 8, 8, 6, 11, 6, 6, 7, 4, 7, 6, 11, 6, 9, 6, 4, 5, 4, 7, 10, 13, 5, 7, 4, 6, 4, 11, 5, 11, 10, 8, 9, 6, 4, 10, 6, 9, 6, 10, 8, 6, 9, 4, 5, 8, 13, 7, 7, 4, 4, 6, 4, 6, 10, 9, 5, 10, 7, 10, 5, 4, 5, 4, 8, 4, 8, 11, 9, 13, 12, 6, 4, 8, 7, 6, 9, 9, 10, 5]\n"
     ]
    }
   ],
   "source": [
    "prego = data['preg']\n",
    "plasma = data['plas']\n",
    "presure = data['pres']\n",
    "thickness = data['skin']\n",
    "insu = data['test']\n",
    "BMI = data['mass']\n",
    "pedigree = data['pedi']\n",
    "ages= data['age']\n",
    "#MEANS\n",
    "\n",
    "print(prego.mean(),plasma.mean(),presure.mean(),thickness.mean(),insu.mean(),BMI.mean(),pedigree.mean(),ages.mean())\n",
    "#variables\n",
    "pregu=[]\n",
    "#newdataframes\n",
    "for i in prego:\n",
    "    if i > 3.85:\n",
    "        pregu.append(i)\n",
    "print(pregu)\n",
    "            \n"
   ]
  },
  {
   "cell_type": "markdown",
   "metadata": {
    "colab_type": "text",
    "id": "BIJkXsK4ch-u"
   },
   "source": [
    "Using what you have learned (and google!) explore the data. Discuss what you find with people around you or the instructors"
   ]
  },
  {
   "cell_type": "code",
   "execution_count": 0,
   "metadata": {
    "colab": {},
    "colab_type": "code",
    "id": "kSl28jLLdAF9"
   },
   "outputs": [],
   "source": [
    "# write code here"
   ]
  }
 ],
 "metadata": {
  "colab": {
   "collapsed_sections": [],
   "name": "Pandas Problem Set.ipynb",
   "provenance": [],
   "version": "0.3.2"
  },
  "kernelspec": {
   "display_name": "Python 3",
   "language": "python",
   "name": "python3"
  },
  "language_info": {
   "codemirror_mode": {
    "name": "ipython",
    "version": 3
   },
   "file_extension": ".py",
   "mimetype": "text/x-python",
   "name": "python",
   "nbconvert_exporter": "python",
   "pygments_lexer": "ipython3",
   "version": "3.7.1"
  }
 },
 "nbformat": 4,
 "nbformat_minor": 1
}
